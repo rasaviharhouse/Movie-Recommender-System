{
 "cells": [
  {
   "cell_type": "code",
   "outputs": [],
   "source": [
    "import pandas as pd\n",
    "from math import sqrt\n",
    "import numpy as np\n",
    "import matplotlib.pyplot as plt\n",
    "import scipy.stats as stats\n",
    "import zipfile\n",
    "import os\n",
    "%matplotlib inline"
   ],
   "metadata": {
    "ExecuteTime": {
     "end_time": "2024-04-05T21:11:51.302987Z",
     "start_time": "2024-04-05T21:11:18.428098Z"
    }
   },
   "execution_count": 2
  },
  {
   "cell_type": "code",
   "outputs": [
    {
     "name": "stdout",
     "output_type": "stream",
     "text": [
      "Extraction complete.\n"
     ]
    }
   ],
   "source": [
    "# Define the path to the zip file and the directory to extract to\n",
    "zip_file = 'datasets.zip'\n",
    "\n",
    "# Extract the contents of the zip file into the extraction directory\n",
    "with zipfile.ZipFile(zip_file, 'r') as zip_ref:\n",
    "    zip_ref.extractall('.')\n",
    "\n",
    "print('Extraction complete.')"
   ],
   "metadata": {
    "collapsed": false,
    "ExecuteTime": {
     "end_time": "2024-04-05T21:11:55.221813Z",
     "start_time": "2024-04-05T21:11:51.305406Z"
    }
   },
   "execution_count": 3
  },
  {
   "cell_type": "code",
   "execution_count": 4,
   "metadata": {
    "ExecuteTime": {
     "end_time": "2024-04-05T21:12:02.937829Z",
     "start_time": "2024-04-05T21:11:55.224744Z"
    }
   },
   "outputs": [
    {
     "name": "stdout",
     "output_type": "stream",
     "text": [
      "(34208, 3)\n"
     ]
    },
    {
     "data": {
      "text/plain": "   movieId                               title  \\\n0        1                    Toy Story (1995)   \n1        2                      Jumanji (1995)   \n2        3             Grumpier Old Men (1995)   \n3        4            Waiting to Exhale (1995)   \n4        5  Father of the Bride Part II (1995)   \n\n                                        genres  \n0  Adventure|Animation|Children|Comedy|Fantasy  \n1                   Adventure|Children|Fantasy  \n2                               Comedy|Romance  \n3                         Comedy|Drama|Romance  \n4                                       Comedy  ",
      "text/html": "<div>\n<style scoped>\n    .dataframe tbody tr th:only-of-type {\n        vertical-align: middle;\n    }\n\n    .dataframe tbody tr th {\n        vertical-align: top;\n    }\n\n    .dataframe thead th {\n        text-align: right;\n    }\n</style>\n<table border=\"1\" class=\"dataframe\">\n  <thead>\n    <tr style=\"text-align: right;\">\n      <th></th>\n      <th>movieId</th>\n      <th>title</th>\n      <th>genres</th>\n    </tr>\n  </thead>\n  <tbody>\n    <tr>\n      <th>0</th>\n      <td>1</td>\n      <td>Toy Story (1995)</td>\n      <td>Adventure|Animation|Children|Comedy|Fantasy</td>\n    </tr>\n    <tr>\n      <th>1</th>\n      <td>2</td>\n      <td>Jumanji (1995)</td>\n      <td>Adventure|Children|Fantasy</td>\n    </tr>\n    <tr>\n      <th>2</th>\n      <td>3</td>\n      <td>Grumpier Old Men (1995)</td>\n      <td>Comedy|Romance</td>\n    </tr>\n    <tr>\n      <th>3</th>\n      <td>4</td>\n      <td>Waiting to Exhale (1995)</td>\n      <td>Comedy|Drama|Romance</td>\n    </tr>\n    <tr>\n      <th>4</th>\n      <td>5</td>\n      <td>Father of the Bride Part II (1995)</td>\n      <td>Comedy</td>\n    </tr>\n  </tbody>\n</table>\n</div>"
     },
     "execution_count": 4,
     "metadata": {},
     "output_type": "execute_result"
    }
   ],
   "source": [
    "# Storing the movie information into a pandas dataframe\n",
    "movies_df = pd.read_csv(\"datasets/movies.csv\")\n",
    "\n",
    "# Storing the user information into a pandas dataframe\n",
    "ratings_df = pd.read_csv(\"datasets/ratings.csv\")\n",
    "\n",
    "print(movies_df.shape)\n",
    "movies_df.head()"
   ]
  },
  {
   "cell_type": "code",
   "execution_count": 5,
   "metadata": {
    "ExecuteTime": {
     "end_time": "2024-04-05T21:12:03.025010Z",
     "start_time": "2024-04-05T21:12:02.941229Z"
    }
   },
   "outputs": [
    {
     "data": {
      "text/plain": "   movieId                        title  \\\n0        1                    Toy Story   \n1        2                      Jumanji   \n2        3             Grumpier Old Men   \n3        4            Waiting to Exhale   \n4        5  Father of the Bride Part II   \n\n                                        genres  year  \n0  Adventure|Animation|Children|Comedy|Fantasy  1995  \n1                   Adventure|Children|Fantasy  1995  \n2                               Comedy|Romance  1995  \n3                         Comedy|Drama|Romance  1995  \n4                                       Comedy  1995  ",
      "text/html": "<div>\n<style scoped>\n    .dataframe tbody tr th:only-of-type {\n        vertical-align: middle;\n    }\n\n    .dataframe tbody tr th {\n        vertical-align: top;\n    }\n\n    .dataframe thead th {\n        text-align: right;\n    }\n</style>\n<table border=\"1\" class=\"dataframe\">\n  <thead>\n    <tr style=\"text-align: right;\">\n      <th></th>\n      <th>movieId</th>\n      <th>title</th>\n      <th>genres</th>\n      <th>year</th>\n    </tr>\n  </thead>\n  <tbody>\n    <tr>\n      <th>0</th>\n      <td>1</td>\n      <td>Toy Story</td>\n      <td>Adventure|Animation|Children|Comedy|Fantasy</td>\n      <td>1995</td>\n    </tr>\n    <tr>\n      <th>1</th>\n      <td>2</td>\n      <td>Jumanji</td>\n      <td>Adventure|Children|Fantasy</td>\n      <td>1995</td>\n    </tr>\n    <tr>\n      <th>2</th>\n      <td>3</td>\n      <td>Grumpier Old Men</td>\n      <td>Comedy|Romance</td>\n      <td>1995</td>\n    </tr>\n    <tr>\n      <th>3</th>\n      <td>4</td>\n      <td>Waiting to Exhale</td>\n      <td>Comedy|Drama|Romance</td>\n      <td>1995</td>\n    </tr>\n    <tr>\n      <th>4</th>\n      <td>5</td>\n      <td>Father of the Bride Part II</td>\n      <td>Comedy</td>\n      <td>1995</td>\n    </tr>\n  </tbody>\n</table>\n</div>"
     },
     "execution_count": 5,
     "metadata": {},
     "output_type": "execute_result"
    }
   ],
   "source": [
    "# Remove year from title column and store it in a new column\n",
    "\n",
    "# Using regular expressions to find a year stored between parentheses\n",
    "# We specify the parantheses so we don't conflict with movies that have years in their titles\n",
    "movies_df['year'] = movies_df.title.str.extract('(\\(\\d\\d\\d\\d\\))',expand=False)\n",
    "\n",
    "# Removing the parentheses from year column\n",
    "movies_df['year'] = movies_df.year.str.extract('(\\d\\d\\d\\d)',expand=False)\n",
    "\n",
    "# Removing the years from the 'title' column\n",
    "movies_df['title'] = movies_df.title.str.replace('(\\(\\d\\d\\d\\d\\))', '', regex=True)\n",
    "\n",
    "# Applying the strip function to get rid of any ending whitespace characters that may have appeared\n",
    "movies_df['title'] = movies_df['title'].apply(lambda x: x.strip())\n",
    "movies_df.head()"
   ]
  },
  {
   "cell_type": "code",
   "execution_count": 6,
   "metadata": {
    "ExecuteTime": {
     "end_time": "2024-04-05T21:12:03.039098Z",
     "start_time": "2024-04-05T21:12:03.027291Z"
    }
   },
   "outputs": [
    {
     "data": {
      "text/plain": "   movieId                        title  year\n0        1                    Toy Story  1995\n1        2                      Jumanji  1995\n2        3             Grumpier Old Men  1995\n3        4            Waiting to Exhale  1995\n4        5  Father of the Bride Part II  1995",
      "text/html": "<div>\n<style scoped>\n    .dataframe tbody tr th:only-of-type {\n        vertical-align: middle;\n    }\n\n    .dataframe tbody tr th {\n        vertical-align: top;\n    }\n\n    .dataframe thead th {\n        text-align: right;\n    }\n</style>\n<table border=\"1\" class=\"dataframe\">\n  <thead>\n    <tr style=\"text-align: right;\">\n      <th></th>\n      <th>movieId</th>\n      <th>title</th>\n      <th>year</th>\n    </tr>\n  </thead>\n  <tbody>\n    <tr>\n      <th>0</th>\n      <td>1</td>\n      <td>Toy Story</td>\n      <td>1995</td>\n    </tr>\n    <tr>\n      <th>1</th>\n      <td>2</td>\n      <td>Jumanji</td>\n      <td>1995</td>\n    </tr>\n    <tr>\n      <th>2</th>\n      <td>3</td>\n      <td>Grumpier Old Men</td>\n      <td>1995</td>\n    </tr>\n    <tr>\n      <th>3</th>\n      <td>4</td>\n      <td>Waiting to Exhale</td>\n      <td>1995</td>\n    </tr>\n    <tr>\n      <th>4</th>\n      <td>5</td>\n      <td>Father of the Bride Part II</td>\n      <td>1995</td>\n    </tr>\n  </tbody>\n</table>\n</div>"
     },
     "execution_count": 6,
     "metadata": {},
     "output_type": "execute_result"
    }
   ],
   "source": [
    "# Drop the genres column since we won't need it for collaboration based recommendation system.\n",
    "movies_df.drop(columns=['genres'], inplace=True)\n",
    "movies_df.head()"
   ]
  },
  {
   "cell_type": "code",
   "execution_count": 7,
   "metadata": {
    "ExecuteTime": {
     "end_time": "2024-04-05T21:12:03.050266Z",
     "start_time": "2024-04-05T21:12:03.040205Z"
    }
   },
   "outputs": [
    {
     "name": "stdout",
     "output_type": "stream",
     "text": [
      "(22884377, 4)\n"
     ]
    },
    {
     "data": {
      "text/plain": "   userId  movieId  rating   timestamp\n0       1      169     2.5  1204927694\n1       1     2471     3.0  1204927438\n2       1    48516     5.0  1204927435\n3       2     2571     3.5  1436165433\n4       2   109487     4.0  1436165496",
      "text/html": "<div>\n<style scoped>\n    .dataframe tbody tr th:only-of-type {\n        vertical-align: middle;\n    }\n\n    .dataframe tbody tr th {\n        vertical-align: top;\n    }\n\n    .dataframe thead th {\n        text-align: right;\n    }\n</style>\n<table border=\"1\" class=\"dataframe\">\n  <thead>\n    <tr style=\"text-align: right;\">\n      <th></th>\n      <th>userId</th>\n      <th>movieId</th>\n      <th>rating</th>\n      <th>timestamp</th>\n    </tr>\n  </thead>\n  <tbody>\n    <tr>\n      <th>0</th>\n      <td>1</td>\n      <td>169</td>\n      <td>2.5</td>\n      <td>1204927694</td>\n    </tr>\n    <tr>\n      <th>1</th>\n      <td>1</td>\n      <td>2471</td>\n      <td>3.0</td>\n      <td>1204927438</td>\n    </tr>\n    <tr>\n      <th>2</th>\n      <td>1</td>\n      <td>48516</td>\n      <td>5.0</td>\n      <td>1204927435</td>\n    </tr>\n    <tr>\n      <th>3</th>\n      <td>2</td>\n      <td>2571</td>\n      <td>3.5</td>\n      <td>1436165433</td>\n    </tr>\n    <tr>\n      <th>4</th>\n      <td>2</td>\n      <td>109487</td>\n      <td>4.0</td>\n      <td>1436165496</td>\n    </tr>\n  </tbody>\n</table>\n</div>"
     },
     "execution_count": 7,
     "metadata": {},
     "output_type": "execute_result"
    }
   ],
   "source": [
    "print(ratings_df.shape)\n",
    "ratings_df.head()"
   ]
  },
  {
   "cell_type": "code",
   "execution_count": 8,
   "metadata": {
    "ExecuteTime": {
     "end_time": "2024-04-05T21:12:03.470445Z",
     "start_time": "2024-04-05T21:12:03.051233Z"
    }
   },
   "outputs": [
    {
     "data": {
      "text/plain": "   userId  movieId  rating\n0       1      169     2.5\n1       1     2471     3.0\n2       1    48516     5.0\n3       2     2571     3.5\n4       2   109487     4.0",
      "text/html": "<div>\n<style scoped>\n    .dataframe tbody tr th:only-of-type {\n        vertical-align: middle;\n    }\n\n    .dataframe tbody tr th {\n        vertical-align: top;\n    }\n\n    .dataframe thead th {\n        text-align: right;\n    }\n</style>\n<table border=\"1\" class=\"dataframe\">\n  <thead>\n    <tr style=\"text-align: right;\">\n      <th></th>\n      <th>userId</th>\n      <th>movieId</th>\n      <th>rating</th>\n    </tr>\n  </thead>\n  <tbody>\n    <tr>\n      <th>0</th>\n      <td>1</td>\n      <td>169</td>\n      <td>2.5</td>\n    </tr>\n    <tr>\n      <th>1</th>\n      <td>1</td>\n      <td>2471</td>\n      <td>3.0</td>\n    </tr>\n    <tr>\n      <th>2</th>\n      <td>1</td>\n      <td>48516</td>\n      <td>5.0</td>\n    </tr>\n    <tr>\n      <th>3</th>\n      <td>2</td>\n      <td>2571</td>\n      <td>3.5</td>\n    </tr>\n    <tr>\n      <th>4</th>\n      <td>2</td>\n      <td>109487</td>\n      <td>4.0</td>\n    </tr>\n  </tbody>\n</table>\n</div>"
     },
     "execution_count": 8,
     "metadata": {},
     "output_type": "execute_result"
    }
   ],
   "source": [
    "# Drop review timestamp column as we don't need that information\n",
    "ratings_df.drop(columns=['timestamp'], inplace=True)\n",
    "ratings_df.head()"
   ]
  },
  {
   "cell_type": "markdown",
   "source": [
    "Collaborative Filtering\n",
    "\n",
    "This technique we're going to take a look at is called Collaborative Filtering, which is also known as User-User Filtering. This technique uses other users to recommend items to the input user. It attempts to find users that have similar preferences and opinions as the input and then recommends items that they have liked to the input. There are several methods of finding similar users (Even some making use of Machine Learning), and the one we will be using here is going to be based on the Pearson Correlation Function.\n",
    "\n",
    "The process for creating a User Based recommendation system is as follows:\n",
    "\n",
    "1. Select a user with the movies the user has watched\n",
    "2. Based on the user's rating to movies, find the top X neighbours\n",
    "3. Get the watched movie record of the user for each neighbour.\n",
    "4. Calculate a similarity score using a formula\n",
    "5. Recommend the items with the highest score"
   ],
   "metadata": {
    "collapsed": false
   }
  },
  {
   "cell_type": "code",
   "execution_count": 9,
   "metadata": {
    "ExecuteTime": {
     "end_time": "2024-04-05T21:12:03.479991Z",
     "start_time": "2024-04-05T21:12:03.471866Z"
    }
   },
   "outputs": [
    {
     "data": {
      "text/plain": "                 title  rating\n0  Breakfast Club, The     5.0\n1            Toy Story     3.5\n2              Jumanji     2.0\n3         Pulp Fiction     5.0\n4                Akira     4.5",
      "text/html": "<div>\n<style scoped>\n    .dataframe tbody tr th:only-of-type {\n        vertical-align: middle;\n    }\n\n    .dataframe tbody tr th {\n        vertical-align: top;\n    }\n\n    .dataframe thead th {\n        text-align: right;\n    }\n</style>\n<table border=\"1\" class=\"dataframe\">\n  <thead>\n    <tr style=\"text-align: right;\">\n      <th></th>\n      <th>title</th>\n      <th>rating</th>\n    </tr>\n  </thead>\n  <tbody>\n    <tr>\n      <th>0</th>\n      <td>Breakfast Club, The</td>\n      <td>5.0</td>\n    </tr>\n    <tr>\n      <th>1</th>\n      <td>Toy Story</td>\n      <td>3.5</td>\n    </tr>\n    <tr>\n      <th>2</th>\n      <td>Jumanji</td>\n      <td>2.0</td>\n    </tr>\n    <tr>\n      <th>3</th>\n      <td>Pulp Fiction</td>\n      <td>5.0</td>\n    </tr>\n    <tr>\n      <th>4</th>\n      <td>Akira</td>\n      <td>4.5</td>\n    </tr>\n  </tbody>\n</table>\n</div>"
     },
     "execution_count": 9,
     "metadata": {},
     "output_type": "execute_result"
    }
   ],
   "source": [
    "# Let's begin by creating an input user to recommend movies to:\n",
    "userInput = [\n",
    "            {'title':'Breakfast Club, The', 'rating':5},\n",
    "            {'title':'Toy Story', 'rating':3.5},\n",
    "            {'title':'Jumanji', 'rating':2},\n",
    "            {'title':\"Pulp Fiction\", 'rating':5},\n",
    "            {'title':'Akira', 'rating':4.5}\n",
    "         ] \n",
    "inputMovies = pd.DataFrame(userInput)\n",
    "inputMovies"
   ]
  },
  {
   "cell_type": "code",
   "execution_count": 10,
   "metadata": {
    "ExecuteTime": {
     "end_time": "2024-04-05T21:12:03.502771Z",
     "start_time": "2024-04-05T21:12:03.483568Z"
    }
   },
   "outputs": [
    {
     "data": {
      "text/plain": "                 title  rating  movieId\n0  Breakfast Club, The     5.0     1968\n1            Toy Story     3.5        1\n2              Jumanji     2.0        2\n3         Pulp Fiction     5.0      296\n4                Akira     4.5     1274",
      "text/html": "<div>\n<style scoped>\n    .dataframe tbody tr th:only-of-type {\n        vertical-align: middle;\n    }\n\n    .dataframe tbody tr th {\n        vertical-align: top;\n    }\n\n    .dataframe thead th {\n        text-align: right;\n    }\n</style>\n<table border=\"1\" class=\"dataframe\">\n  <thead>\n    <tr style=\"text-align: right;\">\n      <th></th>\n      <th>title</th>\n      <th>rating</th>\n      <th>movieId</th>\n    </tr>\n  </thead>\n  <tbody>\n    <tr>\n      <th>0</th>\n      <td>Breakfast Club, The</td>\n      <td>5.0</td>\n      <td>1968</td>\n    </tr>\n    <tr>\n      <th>1</th>\n      <td>Toy Story</td>\n      <td>3.5</td>\n      <td>1</td>\n    </tr>\n    <tr>\n      <th>2</th>\n      <td>Jumanji</td>\n      <td>2.0</td>\n      <td>2</td>\n    </tr>\n    <tr>\n      <th>3</th>\n      <td>Pulp Fiction</td>\n      <td>5.0</td>\n      <td>296</td>\n    </tr>\n    <tr>\n      <th>4</th>\n      <td>Akira</td>\n      <td>4.5</td>\n      <td>1274</td>\n    </tr>\n  </tbody>\n</table>\n</div>"
     },
     "execution_count": 10,
     "metadata": {},
     "output_type": "execute_result"
    }
   ],
   "source": [
    "# Add movieId to input user\n",
    "# extract the input movies's ID's from the movies dataframe and add them into it movieId\n",
    "\n",
    "# We can achieve this by first filtering out the rows that contain the input movies' title and then merging this subset with the input dataframe. \n",
    "# We also drop unnecessary columns for the input to save memory space.\n",
    "\n",
    "# Filtering out the movies by title\n",
    "inputId = movies_df[movies_df['title'].isin(inputMovies['title'].tolist())]\n",
    "\n",
    "# Then merging it so we can get the movieId. It's merging it based on title.\n",
    "inputMovies = inputMovies.merge(inputId, on='title')\n",
    "\n",
    "# Dropping information we won't use from the input dataframe\n",
    "inputMovies.drop(columns=['year'], inplace=True)\n",
    "\n",
    "inputMovies"
   ]
  },
  {
   "cell_type": "code",
   "execution_count": 11,
   "metadata": {
    "ExecuteTime": {
     "end_time": "2024-04-05T21:12:04.510979Z",
     "start_time": "2024-04-05T21:12:03.503668Z"
    }
   },
   "outputs": [
    {
     "data": {
      "text/plain": "      userId  movieId  rating\n19         4      296     4.0\n441       12     1968     3.0\n479       13        2     2.0\n531       13     1274     5.0\n681       14      296     2.0\n749       15        1     4.0\n776       15      296     3.0\n911       15     1968     3.0\n1247      17        1     5.0\n1248      17        2     3.0",
      "text/html": "<div>\n<style scoped>\n    .dataframe tbody tr th:only-of-type {\n        vertical-align: middle;\n    }\n\n    .dataframe tbody tr th {\n        vertical-align: top;\n    }\n\n    .dataframe thead th {\n        text-align: right;\n    }\n</style>\n<table border=\"1\" class=\"dataframe\">\n  <thead>\n    <tr style=\"text-align: right;\">\n      <th></th>\n      <th>userId</th>\n      <th>movieId</th>\n      <th>rating</th>\n    </tr>\n  </thead>\n  <tbody>\n    <tr>\n      <th>19</th>\n      <td>4</td>\n      <td>296</td>\n      <td>4.0</td>\n    </tr>\n    <tr>\n      <th>441</th>\n      <td>12</td>\n      <td>1968</td>\n      <td>3.0</td>\n    </tr>\n    <tr>\n      <th>479</th>\n      <td>13</td>\n      <td>2</td>\n      <td>2.0</td>\n    </tr>\n    <tr>\n      <th>531</th>\n      <td>13</td>\n      <td>1274</td>\n      <td>5.0</td>\n    </tr>\n    <tr>\n      <th>681</th>\n      <td>14</td>\n      <td>296</td>\n      <td>2.0</td>\n    </tr>\n    <tr>\n      <th>749</th>\n      <td>15</td>\n      <td>1</td>\n      <td>4.0</td>\n    </tr>\n    <tr>\n      <th>776</th>\n      <td>15</td>\n      <td>296</td>\n      <td>3.0</td>\n    </tr>\n    <tr>\n      <th>911</th>\n      <td>15</td>\n      <td>1968</td>\n      <td>3.0</td>\n    </tr>\n    <tr>\n      <th>1247</th>\n      <td>17</td>\n      <td>1</td>\n      <td>5.0</td>\n    </tr>\n    <tr>\n      <th>1248</th>\n      <td>17</td>\n      <td>2</td>\n      <td>3.0</td>\n    </tr>\n  </tbody>\n</table>\n</div>"
     },
     "execution_count": 11,
     "metadata": {},
     "output_type": "execute_result"
    }
   ],
   "source": [
    "# The users who has seen the same movies\n",
    "# Now with the movie ID's in our input, we can now get the subset of users that have watched and reviewed the movies in our input\n",
    "\n",
    "# Filtering out users that have watched movies that the input has watched and storing it\n",
    "userRatingSubset = ratings_df[ratings_df['movieId'].isin(inputMovies['movieId'].tolist())]\n",
    "userRatingSubset.head(10)"
   ]
  },
  {
   "cell_type": "code",
   "execution_count": 12,
   "metadata": {
    "ExecuteTime": {
     "end_time": "2024-04-05T21:12:04.719053Z",
     "start_time": "2024-04-05T21:12:04.515764Z"
    }
   },
   "outputs": [
    {
     "name": "stdout",
     "output_type": "stream",
     "text": [
      "        userId  movieId  rating\n",
      "104167    1130        1     0.5\n",
      "104168    1130        2     4.0\n",
      "104214    1130      296     4.0\n",
      "104363    1130     1274     4.5\n",
      "104443    1130     1968     4.5\n",
      "        userId  movieId  rating\n",
      "105169    1131      296     4.0\n"
     ]
    }
   ],
   "source": [
    "# We now group up the rows by user ID.\n",
    "\n",
    "# Groupby creates several sub dataframes where they all have the same value in the column specified as the parameter\n",
    "userRatingSubsetGroup = userRatingSubset.groupby(['userId'])\n",
    "\n",
    "# let's look at one of the users, e.g. the one with userID=1130\n",
    "print(userRatingSubsetGroup.get_group(1130))\n",
    "print(userRatingSubsetGroup.get_group(1131))"
   ]
  },
  {
   "cell_type": "code",
   "execution_count": 13,
   "metadata": {
    "ExecuteTime": {
     "end_time": "2024-04-05T21:12:07.805539Z",
     "start_time": "2024-04-05T21:12:04.721288Z"
    }
   },
   "outputs": [
    {
     "data": {
      "text/plain": "[(75,\n        userId  movieId  rating\n  7507      75        1     5.0\n  7508      75        2     3.5\n  7540      75      296     5.0\n  7633      75     1274     4.5\n  7673      75     1968     5.0),\n (106,\n        userId  movieId  rating\n  9083     106        1     2.5\n  9084     106        2     3.0\n  9115     106      296     3.5\n  9198     106     1274     3.0\n  9238     106     1968     3.5),\n (686,\n         userId  movieId  rating\n  61336     686        1     4.0\n  61337     686        2     3.0\n  61377     686      296     4.0\n  61478     686     1274     4.0\n  61569     686     1968     5.0),\n (815,\n         userId  movieId  rating\n  73747     815        1     4.5\n  73748     815        2     3.0\n  73922     815      296     5.0\n  74362     815     1274     3.0\n  74678     815     1968     4.5)]"
     },
     "execution_count": 13,
     "metadata": {},
     "output_type": "execute_result"
    }
   ],
   "source": [
    "# Let's also sort these groups so the users that share the most movies in common with the input have higher priority. \n",
    "# This provides a richer recommendation since we won't go through every single user.\n",
    "\n",
    "# Sorting it so users with movie most in common with the input will have priority\n",
    "# Iterating over a groupby object will give tuples of size 2, first index is the grouped key, 2nd index is the dataframe associated with that grouped key\n",
    "userRatingSubsetGroup = sorted(userRatingSubsetGroup,  key=lambda x: len(x[1]), reverse=True)\n",
    "userRatingSubsetGroup[0:4]"
   ]
  },
  {
   "cell_type": "markdown",
   "source": [
    "Similarity of users to input user\n",
    "\n",
    "Next, we are going to compare all users (not really all !!!) to our specified user and find the one that is most similar.\n",
    "We're going to find out how similar each user is to the input through the Pearson Correlation Coefficient. \n",
    "It is used to measure the strength of a linear association between two variables.\n",
    "\n",
    "Pearson's correlation coefficient = covariance(X, Y) / (std_dev(X) * std_dev(Y))\n",
    "\n",
    "cov(X, Y) = (sum (x - mean(X)) * (y - mean(Y)) ) /(n-1)\n",
    "\n",
    "Why Pearson Correlation?\n",
    "\n",
    "Pearson correlation is invariant to scaling, i.e. multiplying all elements by a nonzero constant or adding any constant to all elements. For example, if you have two vectors X and Y,then, pearson(X, Y) == pearson(X, 2 * Y + 3). This is a pretty important property in recommendation systems because for example two users might rate two series of items totally different in terms of absolute rates, but they would be similar users (i.e. with similar ideas) with similar rates in various scales .\n",
    "\n",
    "The values given by the formula vary from r = -1 to r = 1, where 1 forms a direct correlation between the two entities (it means a perfect positive correlation) and -1 forms a perfect negative correlation.\n",
    "\n",
    "In our case, a 1 means that the two users have similar tastes while a -1 means the opposite.\n",
    "\n",
    "We will select a subset of users to iterate through. This limit is imposed because we don't want to waste too much time going through every single user."
   ],
   "metadata": {
    "collapsed": false
   }
  },
  {
   "cell_type": "code",
   "execution_count": 14,
   "metadata": {
    "ExecuteTime": {
     "end_time": "2024-04-05T21:12:07.946964Z",
     "start_time": "2024-04-05T21:12:07.806907Z"
    }
   },
   "outputs": [],
   "source": [
    "userRatingSubsetGroup = userRatingSubsetGroup[0:100]"
   ]
  },
  {
   "cell_type": "code",
   "execution_count": 15,
   "metadata": {
    "ExecuteTime": {
     "end_time": "2024-04-05T21:12:08.109234Z",
     "start_time": "2024-04-05T21:12:07.948061Z"
    }
   },
   "outputs": [],
   "source": [
    "from scipy.stats import pearsonr\n",
    "\n",
    "# Sort inputMovies by movieId\n",
    "inputMovies = inputMovies.sort_values(by='movieId')\n",
    "\n",
    "# Initialize pearsonCorrelationDict\n",
    "pearsonCorrelationDict = {}\n",
    "\n",
    "# For every user group in our subset\n",
    "for userId, group in userRatingSubsetGroup:\n",
    "    # Sort the group by movieId\n",
    "    group = group.sort_values(by='movieId')\n",
    "    \n",
    "    # Get common movies between inputMovies and current user group\n",
    "    common_input_movies = inputMovies[inputMovies['movieId'].isin(group['movieId'])]\n",
    "    \n",
    "    # Get rating vectors for common movies\n",
    "    input_ratings = common_input_movies['rating'].values\n",
    "    group_ratings = group[group['movieId'].isin(common_input_movies['movieId'])]['rating'].values\n",
    "    \n",
    "    # Calculate Pearson correlation coefficient\n",
    "    correlation_coefficient, _ = pearsonr(input_ratings, group_ratings)\n",
    "    \n",
    "    # Store Pearson correlation coefficient in pearsonCorrelationDict\n",
    "    pearsonCorrelationDict[userId] = correlation_coefficient"
   ]
  },
  {
   "cell_type": "code",
   "execution_count": 16,
   "metadata": {
    "ExecuteTime": {
     "end_time": "2024-04-05T21:12:08.117303Z",
     "start_time": "2024-04-05T21:12:08.110501Z"
    }
   },
   "outputs": [
    {
     "data": {
      "text/plain": "   similarityIndex  userId\n0         0.827278      75\n1         0.586009     106\n2         0.832050     686\n3         0.576557     815\n4         0.943456    1040",
      "text/html": "<div>\n<style scoped>\n    .dataframe tbody tr th:only-of-type {\n        vertical-align: middle;\n    }\n\n    .dataframe tbody tr th {\n        vertical-align: top;\n    }\n\n    .dataframe thead th {\n        text-align: right;\n    }\n</style>\n<table border=\"1\" class=\"dataframe\">\n  <thead>\n    <tr style=\"text-align: right;\">\n      <th></th>\n      <th>similarityIndex</th>\n      <th>userId</th>\n    </tr>\n  </thead>\n  <tbody>\n    <tr>\n      <th>0</th>\n      <td>0.827278</td>\n      <td>75</td>\n    </tr>\n    <tr>\n      <th>1</th>\n      <td>0.586009</td>\n      <td>106</td>\n    </tr>\n    <tr>\n      <th>2</th>\n      <td>0.832050</td>\n      <td>686</td>\n    </tr>\n    <tr>\n      <th>3</th>\n      <td>0.576557</td>\n      <td>815</td>\n    </tr>\n    <tr>\n      <th>4</th>\n      <td>0.943456</td>\n      <td>1040</td>\n    </tr>\n  </tbody>\n</table>\n</div>"
     },
     "execution_count": 16,
     "metadata": {},
     "output_type": "execute_result"
    }
   ],
   "source": [
    "pearsonDF = pd.DataFrame.from_dict(pearsonCorrelationDict, orient='index')\n",
    "pearsonDF.columns = ['similarityIndex']\n",
    "pearsonDF['userId'] = pearsonDF.index\n",
    "pearsonDF.index = range(len(pearsonDF))\n",
    "pearsonDF.head()"
   ]
  },
  {
   "cell_type": "code",
   "execution_count": 17,
   "metadata": {
    "ExecuteTime": {
     "end_time": "2024-04-05T21:12:08.124702Z",
     "start_time": "2024-04-05T21:12:08.118627Z"
    }
   },
   "outputs": [
    {
     "data": {
      "text/plain": "    similarityIndex  userId\n64         0.961678   12325\n55         0.961538   10707\n34         0.961538    6207\n67         0.960769   13053\n4          0.943456    1040",
      "text/html": "<div>\n<style scoped>\n    .dataframe tbody tr th:only-of-type {\n        vertical-align: middle;\n    }\n\n    .dataframe tbody tr th {\n        vertical-align: top;\n    }\n\n    .dataframe thead th {\n        text-align: right;\n    }\n</style>\n<table border=\"1\" class=\"dataframe\">\n  <thead>\n    <tr style=\"text-align: right;\">\n      <th></th>\n      <th>similarityIndex</th>\n      <th>userId</th>\n    </tr>\n  </thead>\n  <tbody>\n    <tr>\n      <th>64</th>\n      <td>0.961678</td>\n      <td>12325</td>\n    </tr>\n    <tr>\n      <th>55</th>\n      <td>0.961538</td>\n      <td>10707</td>\n    </tr>\n    <tr>\n      <th>34</th>\n      <td>0.961538</td>\n      <td>6207</td>\n    </tr>\n    <tr>\n      <th>67</th>\n      <td>0.960769</td>\n      <td>13053</td>\n    </tr>\n    <tr>\n      <th>4</th>\n      <td>0.943456</td>\n      <td>1040</td>\n    </tr>\n  </tbody>\n</table>\n</div>"
     },
     "execution_count": 17,
     "metadata": {},
     "output_type": "execute_result"
    }
   ],
   "source": [
    "# The top X similar users to input user\n",
    "# Now let's get the top 50 users that are most similar to the input.\n",
    "\n",
    "topUsers = pearsonDF.sort_values(by='similarityIndex', ascending=False).iloc[:50]\n",
    "topUsers.head()"
   ]
  },
  {
   "cell_type": "code",
   "execution_count": 18,
   "metadata": {
    "ExecuteTime": {
     "end_time": "2024-04-05T21:12:10.184353Z",
     "start_time": "2024-04-05T21:12:08.125628Z"
    }
   },
   "outputs": [
    {
     "data": {
      "text/plain": "   similarityIndex  userId  movieId  rating  weightedRating\n0         0.961678   12325        1     3.5        3.365874\n1         0.961678   12325        2     1.5        1.442517\n2         0.961678   12325        3     3.0        2.885035\n3         0.961678   12325        5     0.5        0.480839\n4         0.961678   12325        6     2.5        2.404196\n5         0.961678   12325        7     3.0        2.885035\n6         0.961678   12325       10     3.0        2.885035\n7         0.961678   12325       11     2.5        2.404196\n8         0.961678   12325       17     4.0        3.846713\n9         0.961678   12325       19     1.0        0.961678",
      "text/html": "<div>\n<style scoped>\n    .dataframe tbody tr th:only-of-type {\n        vertical-align: middle;\n    }\n\n    .dataframe tbody tr th {\n        vertical-align: top;\n    }\n\n    .dataframe thead th {\n        text-align: right;\n    }\n</style>\n<table border=\"1\" class=\"dataframe\">\n  <thead>\n    <tr style=\"text-align: right;\">\n      <th></th>\n      <th>similarityIndex</th>\n      <th>userId</th>\n      <th>movieId</th>\n      <th>rating</th>\n      <th>weightedRating</th>\n    </tr>\n  </thead>\n  <tbody>\n    <tr>\n      <th>0</th>\n      <td>0.961678</td>\n      <td>12325</td>\n      <td>1</td>\n      <td>3.5</td>\n      <td>3.365874</td>\n    </tr>\n    <tr>\n      <th>1</th>\n      <td>0.961678</td>\n      <td>12325</td>\n      <td>2</td>\n      <td>1.5</td>\n      <td>1.442517</td>\n    </tr>\n    <tr>\n      <th>2</th>\n      <td>0.961678</td>\n      <td>12325</td>\n      <td>3</td>\n      <td>3.0</td>\n      <td>2.885035</td>\n    </tr>\n    <tr>\n      <th>3</th>\n      <td>0.961678</td>\n      <td>12325</td>\n      <td>5</td>\n      <td>0.5</td>\n      <td>0.480839</td>\n    </tr>\n    <tr>\n      <th>4</th>\n      <td>0.961678</td>\n      <td>12325</td>\n      <td>6</td>\n      <td>2.5</td>\n      <td>2.404196</td>\n    </tr>\n    <tr>\n      <th>5</th>\n      <td>0.961678</td>\n      <td>12325</td>\n      <td>7</td>\n      <td>3.0</td>\n      <td>2.885035</td>\n    </tr>\n    <tr>\n      <th>6</th>\n      <td>0.961678</td>\n      <td>12325</td>\n      <td>10</td>\n      <td>3.0</td>\n      <td>2.885035</td>\n    </tr>\n    <tr>\n      <th>7</th>\n      <td>0.961678</td>\n      <td>12325</td>\n      <td>11</td>\n      <td>2.5</td>\n      <td>2.404196</td>\n    </tr>\n    <tr>\n      <th>8</th>\n      <td>0.961678</td>\n      <td>12325</td>\n      <td>17</td>\n      <td>4.0</td>\n      <td>3.846713</td>\n    </tr>\n    <tr>\n      <th>9</th>\n      <td>0.961678</td>\n      <td>12325</td>\n      <td>19</td>\n      <td>1.0</td>\n      <td>0.961678</td>\n    </tr>\n  </tbody>\n</table>\n</div>"
     },
     "execution_count": 18,
     "metadata": {},
     "output_type": "execute_result"
    }
   ],
   "source": [
    "# Now, let's start recommending movies to the input user.\n",
    "\n",
    "# Rating of selected users to all movies\n",
    "\n",
    "# We're going to do this by taking the weighted average of the ratings of the movies using the Pearson Correlation as the weight. \n",
    "\n",
    "# To do this, we first need to get the movies watched by the users in our pearsonDF from the ratings dataframe and then store their correlation in a new column called similarityIndex\". This is achieved below by merging of these two tables.\n",
    "\n",
    "topUsersRating = topUsers.merge(ratings_df, left_on='userId', right_on='userId', how='inner')\n",
    "\n",
    "# Now all we need to do is simply multiply the movie rating by its weight (The similarity index), then sum up the new ratings and divide it by the sum of the weights.\n",
    "# We can easily do this by simply multiplying two columns, then grouping up the dataframe by movieId and then dividing two columns:\n",
    "# It shows the idea of all similar users to candidate movies for the input user:\n",
    "\n",
    "# Multiplies the similarity by the user's ratings\n",
    "topUsersRating['weightedRating'] = topUsersRating['similarityIndex'] * topUsersRating['rating']\n",
    "\n",
    "topUsersRating.head(10)"
   ]
  },
  {
   "cell_type": "code",
   "outputs": [
    {
     "data": {
      "text/plain": "         weighted_avg_recommendation_score\nmovieId                                   \n1                                 3.668955\n2                                 2.518658\n3                                 2.657941\n4                                 3.000000\n5                                 2.316058",
      "text/html": "<div>\n<style scoped>\n    .dataframe tbody tr th:only-of-type {\n        vertical-align: middle;\n    }\n\n    .dataframe tbody tr th {\n        vertical-align: top;\n    }\n\n    .dataframe thead th {\n        text-align: right;\n    }\n</style>\n<table border=\"1\" class=\"dataframe\">\n  <thead>\n    <tr style=\"text-align: right;\">\n      <th></th>\n      <th>weighted_avg_recommendation_score</th>\n    </tr>\n    <tr>\n      <th>movieId</th>\n      <th></th>\n    </tr>\n  </thead>\n  <tbody>\n    <tr>\n      <th>1</th>\n      <td>3.668955</td>\n    </tr>\n    <tr>\n      <th>2</th>\n      <td>2.518658</td>\n    </tr>\n    <tr>\n      <th>3</th>\n      <td>2.657941</td>\n    </tr>\n    <tr>\n      <th>4</th>\n      <td>3.000000</td>\n    </tr>\n    <tr>\n      <th>5</th>\n      <td>2.316058</td>\n    </tr>\n  </tbody>\n</table>\n</div>"
     },
     "execution_count": 19,
     "metadata": {},
     "output_type": "execute_result"
    }
   ],
   "source": [
    "# Group by movieId and sum up the weighted ratings and similarity indices\n",
    "tempTopUsersRating = topUsersRating.groupby('movieId').agg({'similarityIndex': 'sum', 'weightedRating': 'sum'})\n",
    "tempTopUsersRating.columns = ['sum_similarityIndex','sum_weightedRating']\n",
    "\n",
    "# Calculate the weighted average recommendation score\n",
    "recommendation_df = pd.DataFrame()\n",
    "recommendation_df['weighted_avg_recommendation_score'] = tempTopUsersRating['sum_weightedRating'] / tempTopUsersRating['sum_similarityIndex']\n",
    "recommendation_df.head()"
   ],
   "metadata": {
    "collapsed": false,
    "ExecuteTime": {
     "end_time": "2024-04-05T21:12:10.224704Z",
     "start_time": "2024-04-05T21:12:10.187863Z"
    }
   },
   "execution_count": 19
  },
  {
   "cell_type": "code",
   "outputs": [
    {
     "data": {
      "text/plain": "         weighted_avg_recommendation_score  movieId\nmovieId                                            \n1                                 3.668955        1\n2                                 2.518658        2\n3                                 2.657941        3\n4                                 3.000000        4\n5                                 2.316058        5",
      "text/html": "<div>\n<style scoped>\n    .dataframe tbody tr th:only-of-type {\n        vertical-align: middle;\n    }\n\n    .dataframe tbody tr th {\n        vertical-align: top;\n    }\n\n    .dataframe thead th {\n        text-align: right;\n    }\n</style>\n<table border=\"1\" class=\"dataframe\">\n  <thead>\n    <tr style=\"text-align: right;\">\n      <th></th>\n      <th>weighted_avg_recommendation_score</th>\n      <th>movieId</th>\n    </tr>\n    <tr>\n      <th>movieId</th>\n      <th></th>\n      <th></th>\n    </tr>\n  </thead>\n  <tbody>\n    <tr>\n      <th>1</th>\n      <td>3.668955</td>\n      <td>1</td>\n    </tr>\n    <tr>\n      <th>2</th>\n      <td>2.518658</td>\n      <td>2</td>\n    </tr>\n    <tr>\n      <th>3</th>\n      <td>2.657941</td>\n      <td>3</td>\n    </tr>\n    <tr>\n      <th>4</th>\n      <td>3.000000</td>\n      <td>4</td>\n    </tr>\n    <tr>\n      <th>5</th>\n      <td>2.316058</td>\n      <td>5</td>\n    </tr>\n  </tbody>\n</table>\n</div>"
     },
     "execution_count": 20,
     "metadata": {},
     "output_type": "execute_result"
    }
   ],
   "source": [
    "#Creates an empty dataframe\n",
    "recommendation_df = pd.DataFrame()\n",
    "\n",
    "# Now we take the weighted average\n",
    "recommendation_df['weighted_avg_recommendation_score'] = tempTopUsersRating['sum_weightedRating']/tempTopUsersRating['sum_similarityIndex']\n",
    "recommendation_df['movieId'] = tempTopUsersRating.index\n",
    "recommendation_df.head()"
   ],
   "metadata": {
    "collapsed": false,
    "ExecuteTime": {
     "end_time": "2024-04-05T21:12:10.235433Z",
     "start_time": "2024-04-05T21:12:10.226246Z"
    }
   },
   "execution_count": 20
  },
  {
   "cell_type": "code",
   "execution_count": 21,
   "metadata": {
    "ExecuteTime": {
     "end_time": "2024-04-05T21:12:10.245129Z",
     "start_time": "2024-04-05T21:12:10.236487Z"
    }
   },
   "outputs": [
    {
     "data": {
      "text/plain": "         weighted_avg_recommendation_score  movieId\nmovieId                                            \n27266                                  5.0    27266\n3067                                   5.0     3067\n26801                                  5.0    26801\n3406                                   5.0     3406\n1902                                   5.0     1902\n6660                                   5.0     6660\n6668                                   5.0     6668\n121                                    5.0      121\n3851                                   5.0     3851\n90531                                  5.0    90531",
      "text/html": "<div>\n<style scoped>\n    .dataframe tbody tr th:only-of-type {\n        vertical-align: middle;\n    }\n\n    .dataframe tbody tr th {\n        vertical-align: top;\n    }\n\n    .dataframe thead th {\n        text-align: right;\n    }\n</style>\n<table border=\"1\" class=\"dataframe\">\n  <thead>\n    <tr style=\"text-align: right;\">\n      <th></th>\n      <th>weighted_avg_recommendation_score</th>\n      <th>movieId</th>\n    </tr>\n    <tr>\n      <th>movieId</th>\n      <th></th>\n      <th></th>\n    </tr>\n  </thead>\n  <tbody>\n    <tr>\n      <th>27266</th>\n      <td>5.0</td>\n      <td>27266</td>\n    </tr>\n    <tr>\n      <th>3067</th>\n      <td>5.0</td>\n      <td>3067</td>\n    </tr>\n    <tr>\n      <th>26801</th>\n      <td>5.0</td>\n      <td>26801</td>\n    </tr>\n    <tr>\n      <th>3406</th>\n      <td>5.0</td>\n      <td>3406</td>\n    </tr>\n    <tr>\n      <th>1902</th>\n      <td>5.0</td>\n      <td>1902</td>\n    </tr>\n    <tr>\n      <th>6660</th>\n      <td>5.0</td>\n      <td>6660</td>\n    </tr>\n    <tr>\n      <th>6668</th>\n      <td>5.0</td>\n      <td>6668</td>\n    </tr>\n    <tr>\n      <th>121</th>\n      <td>5.0</td>\n      <td>121</td>\n    </tr>\n    <tr>\n      <th>3851</th>\n      <td>5.0</td>\n      <td>3851</td>\n    </tr>\n    <tr>\n      <th>90531</th>\n      <td>5.0</td>\n      <td>90531</td>\n    </tr>\n  </tbody>\n</table>\n</div>"
     },
     "execution_count": 21,
     "metadata": {},
     "output_type": "execute_result"
    }
   ],
   "source": [
    "# Now let's sort it and see the top 10 movies that the algorithm recommended!\n",
    "\n",
    "recommendation_df = recommendation_df.sort_values(by='weighted_avg_recommendation_score', ascending=False)\n",
    "recommendation_df.head(10)"
   ]
  },
  {
   "cell_type": "code",
   "execution_count": 22,
   "metadata": {
    "ExecuteTime": {
     "end_time": "2024-04-05T21:12:10.257573Z",
     "start_time": "2024-04-05T21:12:10.246260Z"
    }
   },
   "outputs": [
    {
     "data": {
      "text/plain": "       movieId                                              title  year\n119        121                           Boys of St. Vincent, The  1992\n1819      1902                             Dream for an Insomniac  1996\n2981      3067  Women on the Verge of a Nervous Breakdown (Muj...  1988\n3319      3406                    Captain Horatio Hornblower R.N.  1951\n3759      3851                            I'm the One That I Want  2000\n6551      6660                                     Red Shoes, The  1948\n6559      6668               Road Home, The (Wo de fu qin mu qin)  1999\n9064     26801                Dragon Inn (Sun lung moon hak chan)  1992\n9260     27266                                               2046  2004\n18106    90531                                              Shame  2011",
      "text/html": "<div>\n<style scoped>\n    .dataframe tbody tr th:only-of-type {\n        vertical-align: middle;\n    }\n\n    .dataframe tbody tr th {\n        vertical-align: top;\n    }\n\n    .dataframe thead th {\n        text-align: right;\n    }\n</style>\n<table border=\"1\" class=\"dataframe\">\n  <thead>\n    <tr style=\"text-align: right;\">\n      <th></th>\n      <th>movieId</th>\n      <th>title</th>\n      <th>year</th>\n    </tr>\n  </thead>\n  <tbody>\n    <tr>\n      <th>119</th>\n      <td>121</td>\n      <td>Boys of St. Vincent, The</td>\n      <td>1992</td>\n    </tr>\n    <tr>\n      <th>1819</th>\n      <td>1902</td>\n      <td>Dream for an Insomniac</td>\n      <td>1996</td>\n    </tr>\n    <tr>\n      <th>2981</th>\n      <td>3067</td>\n      <td>Women on the Verge of a Nervous Breakdown (Muj...</td>\n      <td>1988</td>\n    </tr>\n    <tr>\n      <th>3319</th>\n      <td>3406</td>\n      <td>Captain Horatio Hornblower R.N.</td>\n      <td>1951</td>\n    </tr>\n    <tr>\n      <th>3759</th>\n      <td>3851</td>\n      <td>I'm the One That I Want</td>\n      <td>2000</td>\n    </tr>\n    <tr>\n      <th>6551</th>\n      <td>6660</td>\n      <td>Red Shoes, The</td>\n      <td>1948</td>\n    </tr>\n    <tr>\n      <th>6559</th>\n      <td>6668</td>\n      <td>Road Home, The (Wo de fu qin mu qin)</td>\n      <td>1999</td>\n    </tr>\n    <tr>\n      <th>9064</th>\n      <td>26801</td>\n      <td>Dragon Inn (Sun lung moon hak chan)</td>\n      <td>1992</td>\n    </tr>\n    <tr>\n      <th>9260</th>\n      <td>27266</td>\n      <td>2046</td>\n      <td>2004</td>\n    </tr>\n    <tr>\n      <th>18106</th>\n      <td>90531</td>\n      <td>Shame</td>\n      <td>2011</td>\n    </tr>\n  </tbody>\n</table>\n</div>"
     },
     "execution_count": 22,
     "metadata": {},
     "output_type": "execute_result"
    }
   ],
   "source": [
    "movies_df.loc[movies_df['movieId'].isin(recommendation_df.head(10)['movieId'].tolist())]"
   ]
  },
  {
   "cell_type": "markdown",
   "source": [
    "## Advantages and Disadvantages of Collaborative Filtering\n",
    "\n",
    "### Advantages\n",
    "* Takes other user's ratings into consideration\n",
    "* Doesn't need to study or extract information from the recommended item\n",
    "* Adapts to the user's interests which might change over time\n",
    "\n",
    "### Disadvantages\n",
    "* Approximation function can be slow\n",
    "* There might be a low of amount of users to approximate\n",
    "* Privacy issues when trying to learn the user's preferences"
   ],
   "metadata": {
    "collapsed": false
   }
  }
 ],
 "metadata": {
  "kernelspec": {
   "display_name": "Python 3",
   "language": "python",
   "name": "python3"
  },
  "language_info": {
   "codemirror_mode": {
    "name": "ipython",
    "version": 3
   },
   "file_extension": ".py",
   "mimetype": "text/x-python",
   "name": "python",
   "nbconvert_exporter": "python",
   "pygments_lexer": "ipython3",
   "version": "3.6.7"
  }
 },
 "nbformat": 4,
 "nbformat_minor": 2
}
